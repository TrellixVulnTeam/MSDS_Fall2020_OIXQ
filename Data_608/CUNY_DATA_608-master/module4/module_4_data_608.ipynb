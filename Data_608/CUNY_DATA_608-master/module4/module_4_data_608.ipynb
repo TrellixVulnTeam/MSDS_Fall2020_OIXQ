{
  "nbformat": 4,
  "nbformat_minor": 0,
  "metadata": {
    "colab": {
      "name": "module_4_data_608.ipynb",
      "provenance": []
    },
    "kernelspec": {
      "name": "python3",
      "display_name": "Python 3"
    }
  },
  "cells": [
    {
      "cell_type": "code",
      "metadata": {
        "id": "_jH64DGC7mQD"
      },
      "source": [
        "import pandas as pd\n",
        "import numpy as np"
      ],
      "execution_count": 1,
      "outputs": []
    },
    {
      "cell_type": "markdown",
      "metadata": {
        "id": "sBfHL7IE74Qc"
      },
      "source": [
        "# Dataset size"
      ]
    },
    {
      "cell_type": "code",
      "metadata": {
        "id": "cqPfmyG972D-",
        "outputId": "6c466e5a-0413-4c06-cf16-356253c46c15",
        "colab": {
          "base_uri": "https://localhost:8080/",
          "height": 80
        }
      },
      "source": [
        "clean_url = ('https://data.cityofnewyork.us/resource/nwxe-4ae8.json?$limit=5&$offset=' + str(0) +\\\n",
        "        '&$select=count(tree_id)').replace(' ', '%20')\n",
        "df_size = pd.read_json(clean_url)\n",
        "df_size"
      ],
      "execution_count": 2,
      "outputs": [
        {
          "output_type": "execute_result",
          "data": {
            "text/html": [
              "<div>\n",
              "<style scoped>\n",
              "    .dataframe tbody tr th:only-of-type {\n",
              "        vertical-align: middle;\n",
              "    }\n",
              "\n",
              "    .dataframe tbody tr th {\n",
              "        vertical-align: top;\n",
              "    }\n",
              "\n",
              "    .dataframe thead th {\n",
              "        text-align: right;\n",
              "    }\n",
              "</style>\n",
              "<table border=\"1\" class=\"dataframe\">\n",
              "  <thead>\n",
              "    <tr style=\"text-align: right;\">\n",
              "      <th></th>\n",
              "      <th>count_tree_id</th>\n",
              "    </tr>\n",
              "  </thead>\n",
              "  <tbody>\n",
              "    <tr>\n",
              "      <th>0</th>\n",
              "      <td>683788</td>\n",
              "    </tr>\n",
              "  </tbody>\n",
              "</table>\n",
              "</div>"
            ],
            "text/plain": [
              "   count_tree_id\n",
              "0         683788"
            ]
          },
          "metadata": {
            "tags": []
          },
          "execution_count": 2
        }
      ]
    },
    {
      "cell_type": "markdown",
      "metadata": {
        "id": "HFIMSVz59qjM"
      },
      "source": [
        "## Shape of retrieved data\n",
        "There are over 600,000 rows in the entire data set. I am only going to retrieve the relevant columns and relevant aggregation through the API call.\n",
        "\n",
        "Columns retrieved:\n",
        "\n",
        "borocode: 1 (Manhattan), 2 (Bronx), 3 (Brooklyn), 4 (Queens), 5 (Staten Island)\n",
        "spc_common: specie name (132 unique species)\n",
        "health: good, fair, poor\n",
        "steward: Indicates the number of unique signs of stewardship observed for this tree (none, 1or2, 3or4, 4ormore)\n",
        "Through trial and error, I determined that there is total of 4565 rows when data is grouped by borocode, spc_common, health, and steward. The limit value is set to 1000 since this is the maximum number of rows that can be retrieved through each API call. The offset value increments by 1000. max_row is set to 5000. This allows us to retrieve all 4565 rows.\n",
        "\n",
        "NOTE: I had to use 'borocode' because I was getting error when I used the 'borough' column to group the data by."
      ]
    },
    {
      "cell_type": "code",
      "metadata": {
        "id": "SqP1qYSN8Z3q"
      },
      "source": [
        "offset = 1000\n",
        "max_row = 5000"
      ],
      "execution_count": 4,
      "outputs": []
    },
    {
      "cell_type": "code",
      "metadata": {
        "id": "FVBBTojj8liA"
      },
      "source": [
        "for x in range(0, max_row, offset):\n",
        "    #print('x is ' + str(x))\n",
        "    soql_url = ('https://data.cityofnewyork.us/resource/nwxe-4ae8.json?$limit=1000&$offset=' + str(x) +\\\n",
        "        '&$select=borocode,spc_common,health,steward,count(tree_id)' +\\\n",
        "        '&$group=borocode,spc_common,health,steward').replace(' ', '%20')\n",
        "    soql_trees = pd.read_json(soql_url)\n",
        "    if(x==0):\n",
        "        df = pd.DataFrame(columns=list(soql_trees.columns.values))\n",
        "    df = df.append(soql_trees)"
      ],
      "execution_count": 9,
      "outputs": []
    },
    {
      "cell_type": "code",
      "metadata": {
        "id": "24uC-QK89GIJ"
      },
      "source": [
        "df = df.reset_index(drop=True)"
      ],
      "execution_count": 10,
      "outputs": []
    },
    {
      "cell_type": "markdown",
      "metadata": {
        "id": "upcQ3HR591Uu"
      },
      "source": [
        "Size of the dataset"
      ]
    },
    {
      "cell_type": "code",
      "metadata": {
        "id": "g7oEdzKX9OkT",
        "outputId": "949faeaf-2f75-4cef-cbf1-eeead3f83cdf",
        "colab": {
          "base_uri": "https://localhost:8080/",
          "height": 34
        }
      },
      "source": [
        "len(df)"
      ],
      "execution_count": 11,
      "outputs": [
        {
          "output_type": "execute_result",
          "data": {
            "text/plain": [
              "4565"
            ]
          },
          "metadata": {
            "tags": []
          },
          "execution_count": 11
        }
      ]
    },
    {
      "cell_type": "code",
      "metadata": {
        "id": "fOvSq_ao9SNg",
        "outputId": "4a97efa4-c423-451a-e7b2-24c0deb2d4f2",
        "colab": {
          "base_uri": "https://localhost:8080/",
          "height": 34
        }
      },
      "source": [
        "# unique names\n",
        "len(list(df.spc_common.unique())) "
      ],
      "execution_count": 12,
      "outputs": [
        {
          "output_type": "execute_result",
          "data": {
            "text/plain": [
              "133"
            ]
          },
          "metadata": {
            "tags": []
          },
          "execution_count": 12
        }
      ]
    },
    {
      "cell_type": "code",
      "metadata": {
        "id": "SBtSp5Zg9k71"
      },
      "source": [
        "# drop na to avoid errors in the visualization \n",
        "df = df.dropna(axis = 0, how = 'any')"
      ],
      "execution_count": 13,
      "outputs": []
    },
    {
      "cell_type": "code",
      "metadata": {
        "id": "YSmWq3d5-Z6g",
        "outputId": "300a72be-961a-4c02-b670-ffc41753daed",
        "colab": {
          "base_uri": "https://localhost:8080/",
          "height": 204
        }
      },
      "source": [
        "df.head(5)"
      ],
      "execution_count": 14,
      "outputs": [
        {
          "output_type": "execute_result",
          "data": {
            "text/html": [
              "<div>\n",
              "<style scoped>\n",
              "    .dataframe tbody tr th:only-of-type {\n",
              "        vertical-align: middle;\n",
              "    }\n",
              "\n",
              "    .dataframe tbody tr th {\n",
              "        vertical-align: top;\n",
              "    }\n",
              "\n",
              "    .dataframe thead th {\n",
              "        text-align: right;\n",
              "    }\n",
              "</style>\n",
              "<table border=\"1\" class=\"dataframe\">\n",
              "  <thead>\n",
              "    <tr style=\"text-align: right;\">\n",
              "      <th></th>\n",
              "      <th>borocode</th>\n",
              "      <th>spc_common</th>\n",
              "      <th>health</th>\n",
              "      <th>steward</th>\n",
              "      <th>count_tree_id</th>\n",
              "    </tr>\n",
              "  </thead>\n",
              "  <tbody>\n",
              "    <tr>\n",
              "      <th>0</th>\n",
              "      <td>3</td>\n",
              "      <td>London planetree</td>\n",
              "      <td>Good</td>\n",
              "      <td>3or4</td>\n",
              "      <td>644</td>\n",
              "    </tr>\n",
              "    <tr>\n",
              "      <th>1</th>\n",
              "      <td>3</td>\n",
              "      <td>Kentucky coffeetree</td>\n",
              "      <td>Good</td>\n",
              "      <td>4orMore</td>\n",
              "      <td>16</td>\n",
              "    </tr>\n",
              "    <tr>\n",
              "      <th>2</th>\n",
              "      <td>3</td>\n",
              "      <td>sycamore maple</td>\n",
              "      <td>Poor</td>\n",
              "      <td>None</td>\n",
              "      <td>41</td>\n",
              "    </tr>\n",
              "    <tr>\n",
              "      <th>3</th>\n",
              "      <td>5</td>\n",
              "      <td>Chinese tree lilac</td>\n",
              "      <td>Poor</td>\n",
              "      <td>1or2</td>\n",
              "      <td>1</td>\n",
              "    </tr>\n",
              "    <tr>\n",
              "      <th>4</th>\n",
              "      <td>5</td>\n",
              "      <td>red maple</td>\n",
              "      <td>Good</td>\n",
              "      <td>None</td>\n",
              "      <td>5094</td>\n",
              "    </tr>\n",
              "  </tbody>\n",
              "</table>\n",
              "</div>"
            ],
            "text/plain": [
              "  borocode           spc_common health  steward count_tree_id\n",
              "0        3     London planetree   Good     3or4           644\n",
              "1        3  Kentucky coffeetree   Good  4orMore            16\n",
              "2        3       sycamore maple   Poor     None            41\n",
              "3        5   Chinese tree lilac   Poor     1or2             1\n",
              "4        5            red maple   Good     None          5094"
            ]
          },
          "metadata": {
            "tags": []
          },
          "execution_count": 14
        }
      ]
    },
    {
      "cell_type": "markdown",
      "metadata": {
        "id": "dajJYKk1-r1X"
      },
      "source": [
        "## Data preparation\n",
        "Build a dash app for a arborist studying the health of various tree species (as defined by the variable ‘spc_common’) across each borough (defined by the variable ‘borough’). This arborist would like to answer the following two questions for each species and in each borough:\n",
        "\n",
        "What proportion of trees are in good, fair, or poor health according to the ‘health’ variable?\n",
        "Are stewards (steward activity measured by the ‘steward’ variable) having an impact on the health of trees?\n",
        "\n",
        "## Work process\n",
        "\n",
        "For every specice and in each borough, what proportion of trees are in good, fair, or poor health?\n",
        "\n",
        "The application will allow arborist to select one specie, and the application will display proportion of trees that are in good, fair, or poor health across all boroughs. Arborist will be able to compare health of particular specie across all five boroughs.\n",
        "\n",
        "Bar graphs will be used to present the proportions. The orientation of the bar graphs will be vertical. The bar graphs will be first grouped by boroughs for each health status.\n",
        "\n",
        "The goal of the code below is to create a dataframe that has the columns: borocode, spc_common, health, ratio.\n",
        "\n",
        "Ratio is the proportion of spc_common in the given borough that has the given heath level. For example, a ratio for red maple in Queens with a health of good is the proportion of good red maple trees in Queens."
      ]
    },
    {
      "cell_type": "code",
      "metadata": {
        "id": "rpSWMGlE-cpV"
      },
      "source": [
        "df_totals = df.groupby(['borocode', 'spc_common'])['count_tree_id'].sum()\n",
        "df_total_by_borocode_specie_health = df.groupby(['borocode', 'spc_common', 'health'])['count_tree_id'].sum()"
      ],
      "execution_count": 15,
      "outputs": []
    },
    {
      "cell_type": "code",
      "metadata": {
        "id": "28JEUV5-_A5e",
        "outputId": "59b2279e-6829-4f22-c3f6-a6c19018e25f",
        "colab": {
          "base_uri": "https://localhost:8080/",
          "height": 136
        }
      },
      "source": [
        "df_totals.head(5)"
      ],
      "execution_count": 16,
      "outputs": [
        {
          "output_type": "execute_result",
          "data": {
            "text/plain": [
              "borocode  spc_common            \n",
              "1         'Schubert' chokecherry     163\n",
              "          American beech              22\n",
              "          American elm              1698\n",
              "          American hophornbeam        84\n",
              "          American hornbeam           85\n",
              "Name: count_tree_id, dtype: int64"
            ]
          },
          "metadata": {
            "tags": []
          },
          "execution_count": 16
        }
      ]
    },
    {
      "cell_type": "code",
      "metadata": {
        "id": "EsGbGcbM_LVh",
        "outputId": "0f0eab80-5107-4487-f72e-5246bc627b0f",
        "colab": {
          "base_uri": "https://localhost:8080/",
          "height": 136
        }
      },
      "source": [
        "df_total_by_borocode_specie_health.head(5)\n"
      ],
      "execution_count": 17,
      "outputs": [
        {
          "output_type": "execute_result",
          "data": {
            "text/plain": [
              "borocode  spc_common              health\n",
              "1         'Schubert' chokecherry  Fair       40\n",
              "                                  Good      111\n",
              "                                  Poor       12\n",
              "          American beech          Fair        4\n",
              "                                  Good       15\n",
              "Name: count_tree_id, dtype: int64"
            ]
          },
          "metadata": {
            "tags": []
          },
          "execution_count": 17
        }
      ]
    },
    {
      "cell_type": "code",
      "metadata": {
        "id": "UE5Q8Ecw_OOO"
      },
      "source": [
        "df_totals = df_totals.reset_index(drop=False)\n",
        "df_total_by_borocode_specie_health = df_total_by_borocode_specie_health.reset_index(drop=False)"
      ],
      "execution_count": 18,
      "outputs": []
    },
    {
      "cell_type": "code",
      "metadata": {
        "id": "pMgGqjHG_RlN",
        "outputId": "d1774a60-b423-4dec-9b9f-2e94684db944",
        "colab": {
          "base_uri": "https://localhost:8080/",
          "height": 204
        }
      },
      "source": [
        "df_totals.head(5)\n"
      ],
      "execution_count": 19,
      "outputs": [
        {
          "output_type": "execute_result",
          "data": {
            "text/html": [
              "<div>\n",
              "<style scoped>\n",
              "    .dataframe tbody tr th:only-of-type {\n",
              "        vertical-align: middle;\n",
              "    }\n",
              "\n",
              "    .dataframe tbody tr th {\n",
              "        vertical-align: top;\n",
              "    }\n",
              "\n",
              "    .dataframe thead th {\n",
              "        text-align: right;\n",
              "    }\n",
              "</style>\n",
              "<table border=\"1\" class=\"dataframe\">\n",
              "  <thead>\n",
              "    <tr style=\"text-align: right;\">\n",
              "      <th></th>\n",
              "      <th>borocode</th>\n",
              "      <th>spc_common</th>\n",
              "      <th>count_tree_id</th>\n",
              "    </tr>\n",
              "  </thead>\n",
              "  <tbody>\n",
              "    <tr>\n",
              "      <th>0</th>\n",
              "      <td>1</td>\n",
              "      <td>'Schubert' chokecherry</td>\n",
              "      <td>163</td>\n",
              "    </tr>\n",
              "    <tr>\n",
              "      <th>1</th>\n",
              "      <td>1</td>\n",
              "      <td>American beech</td>\n",
              "      <td>22</td>\n",
              "    </tr>\n",
              "    <tr>\n",
              "      <th>2</th>\n",
              "      <td>1</td>\n",
              "      <td>American elm</td>\n",
              "      <td>1698</td>\n",
              "    </tr>\n",
              "    <tr>\n",
              "      <th>3</th>\n",
              "      <td>1</td>\n",
              "      <td>American hophornbeam</td>\n",
              "      <td>84</td>\n",
              "    </tr>\n",
              "    <tr>\n",
              "      <th>4</th>\n",
              "      <td>1</td>\n",
              "      <td>American hornbeam</td>\n",
              "      <td>85</td>\n",
              "    </tr>\n",
              "  </tbody>\n",
              "</table>\n",
              "</div>"
            ],
            "text/plain": [
              "   borocode              spc_common  count_tree_id\n",
              "0         1  'Schubert' chokecherry            163\n",
              "1         1          American beech             22\n",
              "2         1            American elm           1698\n",
              "3         1    American hophornbeam             84\n",
              "4         1       American hornbeam             85"
            ]
          },
          "metadata": {
            "tags": []
          },
          "execution_count": 19
        }
      ]
    },
    {
      "cell_type": "code",
      "metadata": {
        "id": "LeggHioS_T2-",
        "outputId": "2f6bed5c-62b2-439b-c4c8-6cb30f532c08",
        "colab": {
          "base_uri": "https://localhost:8080/",
          "height": 204
        }
      },
      "source": [
        "df_total_by_borocode_specie_health.head(5)\n"
      ],
      "execution_count": 20,
      "outputs": [
        {
          "output_type": "execute_result",
          "data": {
            "text/html": [
              "<div>\n",
              "<style scoped>\n",
              "    .dataframe tbody tr th:only-of-type {\n",
              "        vertical-align: middle;\n",
              "    }\n",
              "\n",
              "    .dataframe tbody tr th {\n",
              "        vertical-align: top;\n",
              "    }\n",
              "\n",
              "    .dataframe thead th {\n",
              "        text-align: right;\n",
              "    }\n",
              "</style>\n",
              "<table border=\"1\" class=\"dataframe\">\n",
              "  <thead>\n",
              "    <tr style=\"text-align: right;\">\n",
              "      <th></th>\n",
              "      <th>borocode</th>\n",
              "      <th>spc_common</th>\n",
              "      <th>health</th>\n",
              "      <th>count_tree_id</th>\n",
              "    </tr>\n",
              "  </thead>\n",
              "  <tbody>\n",
              "    <tr>\n",
              "      <th>0</th>\n",
              "      <td>1</td>\n",
              "      <td>'Schubert' chokecherry</td>\n",
              "      <td>Fair</td>\n",
              "      <td>40</td>\n",
              "    </tr>\n",
              "    <tr>\n",
              "      <th>1</th>\n",
              "      <td>1</td>\n",
              "      <td>'Schubert' chokecherry</td>\n",
              "      <td>Good</td>\n",
              "      <td>111</td>\n",
              "    </tr>\n",
              "    <tr>\n",
              "      <th>2</th>\n",
              "      <td>1</td>\n",
              "      <td>'Schubert' chokecherry</td>\n",
              "      <td>Poor</td>\n",
              "      <td>12</td>\n",
              "    </tr>\n",
              "    <tr>\n",
              "      <th>3</th>\n",
              "      <td>1</td>\n",
              "      <td>American beech</td>\n",
              "      <td>Fair</td>\n",
              "      <td>4</td>\n",
              "    </tr>\n",
              "    <tr>\n",
              "      <th>4</th>\n",
              "      <td>1</td>\n",
              "      <td>American beech</td>\n",
              "      <td>Good</td>\n",
              "      <td>15</td>\n",
              "    </tr>\n",
              "  </tbody>\n",
              "</table>\n",
              "</div>"
            ],
            "text/plain": [
              "   borocode              spc_common health  count_tree_id\n",
              "0         1  'Schubert' chokecherry   Fair             40\n",
              "1         1  'Schubert' chokecherry   Good            111\n",
              "2         1  'Schubert' chokecherry   Poor             12\n",
              "3         1          American beech   Fair              4\n",
              "4         1          American beech   Good             15"
            ]
          },
          "metadata": {
            "tags": []
          },
          "execution_count": 20
        }
      ]
    },
    {
      "cell_type": "code",
      "metadata": {
        "id": "1dtkV5HE_WLu"
      },
      "source": [
        "df_totals.columns = ['borocode', 'spc_common', 'total_for_specie_in_borough']\n",
        "df_total_by_borocode_specie_health.columns = ['borocode', 'spc_common', 'health', 'total']"
      ],
      "execution_count": 21,
      "outputs": []
    },
    {
      "cell_type": "code",
      "metadata": {
        "id": "n3sHPcVL_Yjt"
      },
      "source": [
        "tree_proportions = pd.merge(df_total_by_borocode_specie_health, df_totals, on=['borocode', 'spc_common'])\n"
      ],
      "execution_count": 22,
      "outputs": []
    },
    {
      "cell_type": "code",
      "metadata": {
        "id": "tajWVvgk_ahl",
        "outputId": "94b5e8ff-965b-4387-a17a-ad348a7be1de",
        "colab": {
          "base_uri": "https://localhost:8080/",
          "height": 204
        }
      },
      "source": [
        "tree_proportions.head(5)"
      ],
      "execution_count": 23,
      "outputs": [
        {
          "output_type": "execute_result",
          "data": {
            "text/html": [
              "<div>\n",
              "<style scoped>\n",
              "    .dataframe tbody tr th:only-of-type {\n",
              "        vertical-align: middle;\n",
              "    }\n",
              "\n",
              "    .dataframe tbody tr th {\n",
              "        vertical-align: top;\n",
              "    }\n",
              "\n",
              "    .dataframe thead th {\n",
              "        text-align: right;\n",
              "    }\n",
              "</style>\n",
              "<table border=\"1\" class=\"dataframe\">\n",
              "  <thead>\n",
              "    <tr style=\"text-align: right;\">\n",
              "      <th></th>\n",
              "      <th>borocode</th>\n",
              "      <th>spc_common</th>\n",
              "      <th>health</th>\n",
              "      <th>total</th>\n",
              "      <th>total_for_specie_in_borough</th>\n",
              "    </tr>\n",
              "  </thead>\n",
              "  <tbody>\n",
              "    <tr>\n",
              "      <th>0</th>\n",
              "      <td>1</td>\n",
              "      <td>'Schubert' chokecherry</td>\n",
              "      <td>Fair</td>\n",
              "      <td>40</td>\n",
              "      <td>163</td>\n",
              "    </tr>\n",
              "    <tr>\n",
              "      <th>1</th>\n",
              "      <td>1</td>\n",
              "      <td>'Schubert' chokecherry</td>\n",
              "      <td>Good</td>\n",
              "      <td>111</td>\n",
              "      <td>163</td>\n",
              "    </tr>\n",
              "    <tr>\n",
              "      <th>2</th>\n",
              "      <td>1</td>\n",
              "      <td>'Schubert' chokecherry</td>\n",
              "      <td>Poor</td>\n",
              "      <td>12</td>\n",
              "      <td>163</td>\n",
              "    </tr>\n",
              "    <tr>\n",
              "      <th>3</th>\n",
              "      <td>1</td>\n",
              "      <td>American beech</td>\n",
              "      <td>Fair</td>\n",
              "      <td>4</td>\n",
              "      <td>22</td>\n",
              "    </tr>\n",
              "    <tr>\n",
              "      <th>4</th>\n",
              "      <td>1</td>\n",
              "      <td>American beech</td>\n",
              "      <td>Good</td>\n",
              "      <td>15</td>\n",
              "      <td>22</td>\n",
              "    </tr>\n",
              "  </tbody>\n",
              "</table>\n",
              "</div>"
            ],
            "text/plain": [
              "   borocode              spc_common health  total  total_for_specie_in_borough\n",
              "0         1  'Schubert' chokecherry   Fair     40                          163\n",
              "1         1  'Schubert' chokecherry   Good    111                          163\n",
              "2         1  'Schubert' chokecherry   Poor     12                          163\n",
              "3         1          American beech   Fair      4                           22\n",
              "4         1          American beech   Good     15                           22"
            ]
          },
          "metadata": {
            "tags": []
          },
          "execution_count": 23
        }
      ]
    },
    {
      "cell_type": "code",
      "metadata": {
        "id": "-ikBPiZX_cpc"
      },
      "source": [
        "tree_proportions['ratio'] = tree_proportions['total']/ tree_proportions['total_for_specie_in_borough']"
      ],
      "execution_count": 24,
      "outputs": []
    },
    {
      "cell_type": "code",
      "metadata": {
        "id": "lA1u4O5V_fTH",
        "outputId": "1452cbb2-69c5-4202-c633-0bb076597228",
        "colab": {
          "base_uri": "https://localhost:8080/",
          "height": 359
        }
      },
      "source": [
        "tree_proportions.head(10)\n"
      ],
      "execution_count": 25,
      "outputs": [
        {
          "output_type": "execute_result",
          "data": {
            "text/html": [
              "<div>\n",
              "<style scoped>\n",
              "    .dataframe tbody tr th:only-of-type {\n",
              "        vertical-align: middle;\n",
              "    }\n",
              "\n",
              "    .dataframe tbody tr th {\n",
              "        vertical-align: top;\n",
              "    }\n",
              "\n",
              "    .dataframe thead th {\n",
              "        text-align: right;\n",
              "    }\n",
              "</style>\n",
              "<table border=\"1\" class=\"dataframe\">\n",
              "  <thead>\n",
              "    <tr style=\"text-align: right;\">\n",
              "      <th></th>\n",
              "      <th>borocode</th>\n",
              "      <th>spc_common</th>\n",
              "      <th>health</th>\n",
              "      <th>total</th>\n",
              "      <th>total_for_specie_in_borough</th>\n",
              "      <th>ratio</th>\n",
              "    </tr>\n",
              "  </thead>\n",
              "  <tbody>\n",
              "    <tr>\n",
              "      <th>0</th>\n",
              "      <td>1</td>\n",
              "      <td>'Schubert' chokecherry</td>\n",
              "      <td>Fair</td>\n",
              "      <td>40</td>\n",
              "      <td>163</td>\n",
              "      <td>0.245399</td>\n",
              "    </tr>\n",
              "    <tr>\n",
              "      <th>1</th>\n",
              "      <td>1</td>\n",
              "      <td>'Schubert' chokecherry</td>\n",
              "      <td>Good</td>\n",
              "      <td>111</td>\n",
              "      <td>163</td>\n",
              "      <td>0.680982</td>\n",
              "    </tr>\n",
              "    <tr>\n",
              "      <th>2</th>\n",
              "      <td>1</td>\n",
              "      <td>'Schubert' chokecherry</td>\n",
              "      <td>Poor</td>\n",
              "      <td>12</td>\n",
              "      <td>163</td>\n",
              "      <td>0.073620</td>\n",
              "    </tr>\n",
              "    <tr>\n",
              "      <th>3</th>\n",
              "      <td>1</td>\n",
              "      <td>American beech</td>\n",
              "      <td>Fair</td>\n",
              "      <td>4</td>\n",
              "      <td>22</td>\n",
              "      <td>0.181818</td>\n",
              "    </tr>\n",
              "    <tr>\n",
              "      <th>4</th>\n",
              "      <td>1</td>\n",
              "      <td>American beech</td>\n",
              "      <td>Good</td>\n",
              "      <td>15</td>\n",
              "      <td>22</td>\n",
              "      <td>0.681818</td>\n",
              "    </tr>\n",
              "    <tr>\n",
              "      <th>5</th>\n",
              "      <td>1</td>\n",
              "      <td>American beech</td>\n",
              "      <td>Poor</td>\n",
              "      <td>3</td>\n",
              "      <td>22</td>\n",
              "      <td>0.136364</td>\n",
              "    </tr>\n",
              "    <tr>\n",
              "      <th>6</th>\n",
              "      <td>1</td>\n",
              "      <td>American elm</td>\n",
              "      <td>Fair</td>\n",
              "      <td>259</td>\n",
              "      <td>1698</td>\n",
              "      <td>0.152532</td>\n",
              "    </tr>\n",
              "    <tr>\n",
              "      <th>7</th>\n",
              "      <td>1</td>\n",
              "      <td>American elm</td>\n",
              "      <td>Good</td>\n",
              "      <td>1361</td>\n",
              "      <td>1698</td>\n",
              "      <td>0.801531</td>\n",
              "    </tr>\n",
              "    <tr>\n",
              "      <th>8</th>\n",
              "      <td>1</td>\n",
              "      <td>American elm</td>\n",
              "      <td>Poor</td>\n",
              "      <td>78</td>\n",
              "      <td>1698</td>\n",
              "      <td>0.045936</td>\n",
              "    </tr>\n",
              "    <tr>\n",
              "      <th>9</th>\n",
              "      <td>1</td>\n",
              "      <td>American hophornbeam</td>\n",
              "      <td>Fair</td>\n",
              "      <td>12</td>\n",
              "      <td>84</td>\n",
              "      <td>0.142857</td>\n",
              "    </tr>\n",
              "  </tbody>\n",
              "</table>\n",
              "</div>"
            ],
            "text/plain": [
              "   borocode              spc_common  ... total_for_specie_in_borough     ratio\n",
              "0         1  'Schubert' chokecherry  ...                         163  0.245399\n",
              "1         1  'Schubert' chokecherry  ...                         163  0.680982\n",
              "2         1  'Schubert' chokecherry  ...                         163  0.073620\n",
              "3         1          American beech  ...                          22  0.181818\n",
              "4         1          American beech  ...                          22  0.681818\n",
              "5         1          American beech  ...                          22  0.136364\n",
              "6         1            American elm  ...                        1698  0.152532\n",
              "7         1            American elm  ...                        1698  0.801531\n",
              "8         1            American elm  ...                        1698  0.045936\n",
              "9         1    American hophornbeam  ...                          84  0.142857\n",
              "\n",
              "[10 rows x 6 columns]"
            ]
          },
          "metadata": {
            "tags": []
          },
          "execution_count": 25
        }
      ]
    },
    {
      "cell_type": "markdown",
      "metadata": {
        "id": "Kva1NP8n_j5G"
      },
      "source": [
        "## Question 2\n",
        "I would like to use a scatter plot to represent the overall health status of the selected specie across all the boroughs. An overall health index is determined by assigning a numeric value to each health level (Poor=1, Fair=2, Good=3) and then calculating a weighted average for the selected specie for each borough. The overall health index score has a minimum score of 1 and a maximum score of 3."
      ]
    },
    {
      "cell_type": "code",
      "metadata": {
        "id": "sB3eI7ro_jho",
        "outputId": "d5a3f6c1-338d-4877-f99b-c4840c4d3468",
        "colab": {
          "base_uri": "https://localhost:8080/",
          "height": 34
        }
      },
      "source": [
        "list(df['steward'].unique())\n"
      ],
      "execution_count": 26,
      "outputs": [
        {
          "output_type": "execute_result",
          "data": {
            "text/plain": [
              "['3or4', '4orMore', 'None', '1or2']"
            ]
          },
          "metadata": {
            "tags": []
          },
          "execution_count": 26
        }
      ]
    },
    {
      "cell_type": "code",
      "metadata": {
        "id": "9ZHOj-CL_g6l",
        "outputId": "1f2414e2-ca0a-4d26-a3ed-1090e6946468",
        "colab": {
          "base_uri": "https://localhost:8080/",
          "height": 359
        }
      },
      "source": [
        "df.head(10)\n"
      ],
      "execution_count": 27,
      "outputs": [
        {
          "output_type": "execute_result",
          "data": {
            "text/html": [
              "<div>\n",
              "<style scoped>\n",
              "    .dataframe tbody tr th:only-of-type {\n",
              "        vertical-align: middle;\n",
              "    }\n",
              "\n",
              "    .dataframe tbody tr th {\n",
              "        vertical-align: top;\n",
              "    }\n",
              "\n",
              "    .dataframe thead th {\n",
              "        text-align: right;\n",
              "    }\n",
              "</style>\n",
              "<table border=\"1\" class=\"dataframe\">\n",
              "  <thead>\n",
              "    <tr style=\"text-align: right;\">\n",
              "      <th></th>\n",
              "      <th>borocode</th>\n",
              "      <th>spc_common</th>\n",
              "      <th>health</th>\n",
              "      <th>steward</th>\n",
              "      <th>count_tree_id</th>\n",
              "    </tr>\n",
              "  </thead>\n",
              "  <tbody>\n",
              "    <tr>\n",
              "      <th>0</th>\n",
              "      <td>3</td>\n",
              "      <td>London planetree</td>\n",
              "      <td>Good</td>\n",
              "      <td>3or4</td>\n",
              "      <td>644</td>\n",
              "    </tr>\n",
              "    <tr>\n",
              "      <th>1</th>\n",
              "      <td>3</td>\n",
              "      <td>Kentucky coffeetree</td>\n",
              "      <td>Good</td>\n",
              "      <td>4orMore</td>\n",
              "      <td>16</td>\n",
              "    </tr>\n",
              "    <tr>\n",
              "      <th>2</th>\n",
              "      <td>3</td>\n",
              "      <td>sycamore maple</td>\n",
              "      <td>Poor</td>\n",
              "      <td>None</td>\n",
              "      <td>41</td>\n",
              "    </tr>\n",
              "    <tr>\n",
              "      <th>3</th>\n",
              "      <td>5</td>\n",
              "      <td>Chinese tree lilac</td>\n",
              "      <td>Poor</td>\n",
              "      <td>1or2</td>\n",
              "      <td>1</td>\n",
              "    </tr>\n",
              "    <tr>\n",
              "      <th>4</th>\n",
              "      <td>5</td>\n",
              "      <td>red maple</td>\n",
              "      <td>Good</td>\n",
              "      <td>None</td>\n",
              "      <td>5094</td>\n",
              "    </tr>\n",
              "    <tr>\n",
              "      <th>5</th>\n",
              "      <td>4</td>\n",
              "      <td>Atlantic white cedar</td>\n",
              "      <td>Good</td>\n",
              "      <td>3or4</td>\n",
              "      <td>10</td>\n",
              "    </tr>\n",
              "    <tr>\n",
              "      <th>6</th>\n",
              "      <td>5</td>\n",
              "      <td>boxelder</td>\n",
              "      <td>Fair</td>\n",
              "      <td>None</td>\n",
              "      <td>6</td>\n",
              "    </tr>\n",
              "    <tr>\n",
              "      <th>7</th>\n",
              "      <td>2</td>\n",
              "      <td>purple-leaf plum</td>\n",
              "      <td>Fair</td>\n",
              "      <td>3or4</td>\n",
              "      <td>3</td>\n",
              "    </tr>\n",
              "    <tr>\n",
              "      <th>8</th>\n",
              "      <td>2</td>\n",
              "      <td>'Schubert' chokecherry</td>\n",
              "      <td>Poor</td>\n",
              "      <td>None</td>\n",
              "      <td>25</td>\n",
              "    </tr>\n",
              "    <tr>\n",
              "      <th>9</th>\n",
              "      <td>2</td>\n",
              "      <td>hawthorn</td>\n",
              "      <td>Fair</td>\n",
              "      <td>1or2</td>\n",
              "      <td>16</td>\n",
              "    </tr>\n",
              "  </tbody>\n",
              "</table>\n",
              "</div>"
            ],
            "text/plain": [
              "  borocode              spc_common health  steward count_tree_id\n",
              "0        3        London planetree   Good     3or4           644\n",
              "1        3     Kentucky coffeetree   Good  4orMore            16\n",
              "2        3          sycamore maple   Poor     None            41\n",
              "3        5      Chinese tree lilac   Poor     1or2             1\n",
              "4        5               red maple   Good     None          5094\n",
              "5        4    Atlantic white cedar   Good     3or4            10\n",
              "6        5                boxelder   Fair     None             6\n",
              "7        2        purple-leaf plum   Fair     3or4             3\n",
              "8        2  'Schubert' chokecherry   Poor     None            25\n",
              "9        2                hawthorn   Fair     1or2            16"
            ]
          },
          "metadata": {
            "tags": []
          },
          "execution_count": 27
        }
      ]
    },
    {
      "cell_type": "code",
      "metadata": {
        "id": "OlCv8S7M_rt-",
        "outputId": "e46f44d2-a0ae-4308-d7f6-b2be954b03ff",
        "colab": {
          "base_uri": "https://localhost:8080/",
          "height": 359
        }
      },
      "source": [
        "df.sort_values(by=['borocode', 'spc_common', 'steward']).head(10)\n"
      ],
      "execution_count": 28,
      "outputs": [
        {
          "output_type": "execute_result",
          "data": {
            "text/html": [
              "<div>\n",
              "<style scoped>\n",
              "    .dataframe tbody tr th:only-of-type {\n",
              "        vertical-align: middle;\n",
              "    }\n",
              "\n",
              "    .dataframe tbody tr th {\n",
              "        vertical-align: top;\n",
              "    }\n",
              "\n",
              "    .dataframe thead th {\n",
              "        text-align: right;\n",
              "    }\n",
              "</style>\n",
              "<table border=\"1\" class=\"dataframe\">\n",
              "  <thead>\n",
              "    <tr style=\"text-align: right;\">\n",
              "      <th></th>\n",
              "      <th>borocode</th>\n",
              "      <th>spc_common</th>\n",
              "      <th>health</th>\n",
              "      <th>steward</th>\n",
              "      <th>count_tree_id</th>\n",
              "    </tr>\n",
              "  </thead>\n",
              "  <tbody>\n",
              "    <tr>\n",
              "      <th>620</th>\n",
              "      <td>1</td>\n",
              "      <td>'Schubert' chokecherry</td>\n",
              "      <td>Good</td>\n",
              "      <td>1or2</td>\n",
              "      <td>56</td>\n",
              "    </tr>\n",
              "    <tr>\n",
              "      <th>2510</th>\n",
              "      <td>1</td>\n",
              "      <td>'Schubert' chokecherry</td>\n",
              "      <td>Poor</td>\n",
              "      <td>1or2</td>\n",
              "      <td>11</td>\n",
              "    </tr>\n",
              "    <tr>\n",
              "      <th>3561</th>\n",
              "      <td>1</td>\n",
              "      <td>'Schubert' chokecherry</td>\n",
              "      <td>Fair</td>\n",
              "      <td>1or2</td>\n",
              "      <td>23</td>\n",
              "    </tr>\n",
              "    <tr>\n",
              "      <th>1851</th>\n",
              "      <td>1</td>\n",
              "      <td>'Schubert' chokecherry</td>\n",
              "      <td>Good</td>\n",
              "      <td>3or4</td>\n",
              "      <td>21</td>\n",
              "    </tr>\n",
              "    <tr>\n",
              "      <th>2353</th>\n",
              "      <td>1</td>\n",
              "      <td>'Schubert' chokecherry</td>\n",
              "      <td>Fair</td>\n",
              "      <td>3or4</td>\n",
              "      <td>2</td>\n",
              "    </tr>\n",
              "    <tr>\n",
              "      <th>433</th>\n",
              "      <td>1</td>\n",
              "      <td>'Schubert' chokecherry</td>\n",
              "      <td>Good</td>\n",
              "      <td>4orMore</td>\n",
              "      <td>3</td>\n",
              "    </tr>\n",
              "    <tr>\n",
              "      <th>1422</th>\n",
              "      <td>1</td>\n",
              "      <td>'Schubert' chokecherry</td>\n",
              "      <td>Good</td>\n",
              "      <td>None</td>\n",
              "      <td>31</td>\n",
              "    </tr>\n",
              "    <tr>\n",
              "      <th>3342</th>\n",
              "      <td>1</td>\n",
              "      <td>'Schubert' chokecherry</td>\n",
              "      <td>Fair</td>\n",
              "      <td>None</td>\n",
              "      <td>15</td>\n",
              "    </tr>\n",
              "    <tr>\n",
              "      <th>4085</th>\n",
              "      <td>1</td>\n",
              "      <td>'Schubert' chokecherry</td>\n",
              "      <td>Poor</td>\n",
              "      <td>None</td>\n",
              "      <td>1</td>\n",
              "    </tr>\n",
              "    <tr>\n",
              "      <th>912</th>\n",
              "      <td>1</td>\n",
              "      <td>American beech</td>\n",
              "      <td>Good</td>\n",
              "      <td>1or2</td>\n",
              "      <td>7</td>\n",
              "    </tr>\n",
              "  </tbody>\n",
              "</table>\n",
              "</div>"
            ],
            "text/plain": [
              "     borocode              spc_common health  steward count_tree_id\n",
              "620         1  'Schubert' chokecherry   Good     1or2            56\n",
              "2510        1  'Schubert' chokecherry   Poor     1or2            11\n",
              "3561        1  'Schubert' chokecherry   Fair     1or2            23\n",
              "1851        1  'Schubert' chokecherry   Good     3or4            21\n",
              "2353        1  'Schubert' chokecherry   Fair     3or4             2\n",
              "433         1  'Schubert' chokecherry   Good  4orMore             3\n",
              "1422        1  'Schubert' chokecherry   Good     None            31\n",
              "3342        1  'Schubert' chokecherry   Fair     None            15\n",
              "4085        1  'Schubert' chokecherry   Poor     None             1\n",
              "912         1          American beech   Good     1or2             7"
            ]
          },
          "metadata": {
            "tags": []
          },
          "execution_count": 28
        }
      ]
    },
    {
      "cell_type": "code",
      "metadata": {
        "id": "80a4sA3S_t3J",
        "outputId": "b5aee184-9235-4c0c-e02c-2e73e2e6a2d2",
        "colab": {
          "base_uri": "https://localhost:8080/",
          "height": 359
        }
      },
      "source": [
        "df_total_by_steward = df.groupby(['borocode', 'spc_common', 'steward'])['count_tree_id'].sum()\n",
        "df_total_by_steward = df_total_by_steward.reset_index(drop=False)\n",
        "df_total_by_steward.columns = ['borocode', 'spc_common', 'steward', 'steward_total']\n",
        "df_total_by_steward.head(10)"
      ],
      "execution_count": 29,
      "outputs": [
        {
          "output_type": "execute_result",
          "data": {
            "text/html": [
              "<div>\n",
              "<style scoped>\n",
              "    .dataframe tbody tr th:only-of-type {\n",
              "        vertical-align: middle;\n",
              "    }\n",
              "\n",
              "    .dataframe tbody tr th {\n",
              "        vertical-align: top;\n",
              "    }\n",
              "\n",
              "    .dataframe thead th {\n",
              "        text-align: right;\n",
              "    }\n",
              "</style>\n",
              "<table border=\"1\" class=\"dataframe\">\n",
              "  <thead>\n",
              "    <tr style=\"text-align: right;\">\n",
              "      <th></th>\n",
              "      <th>borocode</th>\n",
              "      <th>spc_common</th>\n",
              "      <th>steward</th>\n",
              "      <th>steward_total</th>\n",
              "    </tr>\n",
              "  </thead>\n",
              "  <tbody>\n",
              "    <tr>\n",
              "      <th>0</th>\n",
              "      <td>1</td>\n",
              "      <td>'Schubert' chokecherry</td>\n",
              "      <td>1or2</td>\n",
              "      <td>90</td>\n",
              "    </tr>\n",
              "    <tr>\n",
              "      <th>1</th>\n",
              "      <td>1</td>\n",
              "      <td>'Schubert' chokecherry</td>\n",
              "      <td>3or4</td>\n",
              "      <td>23</td>\n",
              "    </tr>\n",
              "    <tr>\n",
              "      <th>2</th>\n",
              "      <td>1</td>\n",
              "      <td>'Schubert' chokecherry</td>\n",
              "      <td>4orMore</td>\n",
              "      <td>3</td>\n",
              "    </tr>\n",
              "    <tr>\n",
              "      <th>3</th>\n",
              "      <td>1</td>\n",
              "      <td>'Schubert' chokecherry</td>\n",
              "      <td>None</td>\n",
              "      <td>47</td>\n",
              "    </tr>\n",
              "    <tr>\n",
              "      <th>4</th>\n",
              "      <td>1</td>\n",
              "      <td>American beech</td>\n",
              "      <td>1or2</td>\n",
              "      <td>10</td>\n",
              "    </tr>\n",
              "    <tr>\n",
              "      <th>5</th>\n",
              "      <td>1</td>\n",
              "      <td>American beech</td>\n",
              "      <td>None</td>\n",
              "      <td>12</td>\n",
              "    </tr>\n",
              "    <tr>\n",
              "      <th>6</th>\n",
              "      <td>1</td>\n",
              "      <td>American elm</td>\n",
              "      <td>1or2</td>\n",
              "      <td>495</td>\n",
              "    </tr>\n",
              "    <tr>\n",
              "      <th>7</th>\n",
              "      <td>1</td>\n",
              "      <td>American elm</td>\n",
              "      <td>3or4</td>\n",
              "      <td>102</td>\n",
              "    </tr>\n",
              "    <tr>\n",
              "      <th>8</th>\n",
              "      <td>1</td>\n",
              "      <td>American elm</td>\n",
              "      <td>4orMore</td>\n",
              "      <td>15</td>\n",
              "    </tr>\n",
              "    <tr>\n",
              "      <th>9</th>\n",
              "      <td>1</td>\n",
              "      <td>American elm</td>\n",
              "      <td>None</td>\n",
              "      <td>1086</td>\n",
              "    </tr>\n",
              "  </tbody>\n",
              "</table>\n",
              "</div>"
            ],
            "text/plain": [
              "   borocode              spc_common  steward  steward_total\n",
              "0         1  'Schubert' chokecherry     1or2             90\n",
              "1         1  'Schubert' chokecherry     3or4             23\n",
              "2         1  'Schubert' chokecherry  4orMore              3\n",
              "3         1  'Schubert' chokecherry     None             47\n",
              "4         1          American beech     1or2             10\n",
              "5         1          American beech     None             12\n",
              "6         1            American elm     1or2            495\n",
              "7         1            American elm     3or4            102\n",
              "8         1            American elm  4orMore             15\n",
              "9         1            American elm     None           1086"
            ]
          },
          "metadata": {
            "tags": []
          },
          "execution_count": 29
        }
      ]
    },
    {
      "cell_type": "code",
      "metadata": {
        "id": "q6ofpq6j_wjA",
        "outputId": "55fd4c5e-5d99-41a2-8593-206019d08f86",
        "colab": {
          "base_uri": "https://localhost:8080/",
          "height": 359
        }
      },
      "source": [
        "df_steward = pd.merge(df, df_total_by_steward, on=['borocode', 'spc_common', 'steward'])\n",
        "df_steward.head(10)"
      ],
      "execution_count": 30,
      "outputs": [
        {
          "output_type": "execute_result",
          "data": {
            "text/html": [
              "<div>\n",
              "<style scoped>\n",
              "    .dataframe tbody tr th:only-of-type {\n",
              "        vertical-align: middle;\n",
              "    }\n",
              "\n",
              "    .dataframe tbody tr th {\n",
              "        vertical-align: top;\n",
              "    }\n",
              "\n",
              "    .dataframe thead th {\n",
              "        text-align: right;\n",
              "    }\n",
              "</style>\n",
              "<table border=\"1\" class=\"dataframe\">\n",
              "  <thead>\n",
              "    <tr style=\"text-align: right;\">\n",
              "      <th></th>\n",
              "      <th>borocode</th>\n",
              "      <th>spc_common</th>\n",
              "      <th>health</th>\n",
              "      <th>steward</th>\n",
              "      <th>count_tree_id</th>\n",
              "      <th>steward_total</th>\n",
              "    </tr>\n",
              "  </thead>\n",
              "  <tbody>\n",
              "    <tr>\n",
              "      <th>0</th>\n",
              "      <td>3</td>\n",
              "      <td>London planetree</td>\n",
              "      <td>Good</td>\n",
              "      <td>3or4</td>\n",
              "      <td>644</td>\n",
              "      <td>772</td>\n",
              "    </tr>\n",
              "    <tr>\n",
              "      <th>1</th>\n",
              "      <td>3</td>\n",
              "      <td>London planetree</td>\n",
              "      <td>Poor</td>\n",
              "      <td>3or4</td>\n",
              "      <td>18</td>\n",
              "      <td>772</td>\n",
              "    </tr>\n",
              "    <tr>\n",
              "      <th>2</th>\n",
              "      <td>3</td>\n",
              "      <td>London planetree</td>\n",
              "      <td>Fair</td>\n",
              "      <td>3or4</td>\n",
              "      <td>110</td>\n",
              "      <td>772</td>\n",
              "    </tr>\n",
              "    <tr>\n",
              "      <th>3</th>\n",
              "      <td>3</td>\n",
              "      <td>Kentucky coffeetree</td>\n",
              "      <td>Good</td>\n",
              "      <td>4orMore</td>\n",
              "      <td>16</td>\n",
              "      <td>18</td>\n",
              "    </tr>\n",
              "    <tr>\n",
              "      <th>4</th>\n",
              "      <td>3</td>\n",
              "      <td>Kentucky coffeetree</td>\n",
              "      <td>Fair</td>\n",
              "      <td>4orMore</td>\n",
              "      <td>2</td>\n",
              "      <td>18</td>\n",
              "    </tr>\n",
              "    <tr>\n",
              "      <th>5</th>\n",
              "      <td>3</td>\n",
              "      <td>sycamore maple</td>\n",
              "      <td>Poor</td>\n",
              "      <td>None</td>\n",
              "      <td>41</td>\n",
              "      <td>418</td>\n",
              "    </tr>\n",
              "    <tr>\n",
              "      <th>6</th>\n",
              "      <td>3</td>\n",
              "      <td>sycamore maple</td>\n",
              "      <td>Fair</td>\n",
              "      <td>None</td>\n",
              "      <td>75</td>\n",
              "      <td>418</td>\n",
              "    </tr>\n",
              "    <tr>\n",
              "      <th>7</th>\n",
              "      <td>3</td>\n",
              "      <td>sycamore maple</td>\n",
              "      <td>Good</td>\n",
              "      <td>None</td>\n",
              "      <td>302</td>\n",
              "      <td>418</td>\n",
              "    </tr>\n",
              "    <tr>\n",
              "      <th>8</th>\n",
              "      <td>5</td>\n",
              "      <td>Chinese tree lilac</td>\n",
              "      <td>Poor</td>\n",
              "      <td>1or2</td>\n",
              "      <td>1</td>\n",
              "      <td>32</td>\n",
              "    </tr>\n",
              "    <tr>\n",
              "      <th>9</th>\n",
              "      <td>5</td>\n",
              "      <td>Chinese tree lilac</td>\n",
              "      <td>Fair</td>\n",
              "      <td>1or2</td>\n",
              "      <td>7</td>\n",
              "      <td>32</td>\n",
              "    </tr>\n",
              "  </tbody>\n",
              "</table>\n",
              "</div>"
            ],
            "text/plain": [
              "  borocode           spc_common health  steward count_tree_id  steward_total\n",
              "0        3     London planetree   Good     3or4           644            772\n",
              "1        3     London planetree   Poor     3or4            18            772\n",
              "2        3     London planetree   Fair     3or4           110            772\n",
              "3        3  Kentucky coffeetree   Good  4orMore            16             18\n",
              "4        3  Kentucky coffeetree   Fair  4orMore             2             18\n",
              "5        3       sycamore maple   Poor     None            41            418\n",
              "6        3       sycamore maple   Fair     None            75            418\n",
              "7        3       sycamore maple   Good     None           302            418\n",
              "8        5   Chinese tree lilac   Poor     1or2             1             32\n",
              "9        5   Chinese tree lilac   Fair     1or2             7             32"
            ]
          },
          "metadata": {
            "tags": []
          },
          "execution_count": 30
        }
      ]
    },
    {
      "cell_type": "code",
      "metadata": {
        "id": "mK1QHYEX_yl1",
        "outputId": "e8fe6632-086e-44e0-ffaf-2646ad759d38",
        "colab": {
          "base_uri": "https://localhost:8080/",
          "height": 359
        }
      },
      "source": [
        "di = {'Poor':1, 'Fair':2, 'Good':3}\n",
        "df_steward['health_level'] = df_steward['health'].map(di)\n",
        "df_steward.sort_values(by=['borocode', 'spc_common', 'steward']).head(10)\n",
        "df_steward['health_index'] = (df_steward['count_tree_id']/df_steward['steward_total']) * df_steward['health_level']\n",
        "df_steward.sort_values(by=['borocode', 'spc_common', 'steward']).head(10)\n",
        "df_overall_health_index = df_steward.groupby(['borocode', 'spc_common', 'steward'])['health_index'].sum()\n",
        "df_overall_health_index = df_overall_health_index.reset_index(drop=False)\n",
        "df_overall_health_index.columns = ['borocode', 'spc_common', 'steward', 'overall_health_index']\n",
        "di2 = {'3or4':3, '4orMore':4, 'None':1, '1or2':2}\n",
        "df_overall_health_index['steward_level'] = df_overall_health_index['steward'].map(di2)\n",
        "di3 = { 1:'Manhattan', 2:'Bronx', 3:'Brooklyn', 4:'Queens', 5:'Staten Island'}\n",
        "df_overall_health_index['borough'] = df_overall_health_index['borocode'].map(di3)\n",
        "df_overall_health_index['spc_common'] = df_overall_health_index['spc_common'].apply(lambda x: x.title())\n",
        "df_overall_health_index.head(10)"
      ],
      "execution_count": 31,
      "outputs": [
        {
          "output_type": "execute_result",
          "data": {
            "text/html": [
              "<div>\n",
              "<style scoped>\n",
              "    .dataframe tbody tr th:only-of-type {\n",
              "        vertical-align: middle;\n",
              "    }\n",
              "\n",
              "    .dataframe tbody tr th {\n",
              "        vertical-align: top;\n",
              "    }\n",
              "\n",
              "    .dataframe thead th {\n",
              "        text-align: right;\n",
              "    }\n",
              "</style>\n",
              "<table border=\"1\" class=\"dataframe\">\n",
              "  <thead>\n",
              "    <tr style=\"text-align: right;\">\n",
              "      <th></th>\n",
              "      <th>borocode</th>\n",
              "      <th>spc_common</th>\n",
              "      <th>steward</th>\n",
              "      <th>overall_health_index</th>\n",
              "      <th>steward_level</th>\n",
              "      <th>borough</th>\n",
              "    </tr>\n",
              "  </thead>\n",
              "  <tbody>\n",
              "    <tr>\n",
              "      <th>0</th>\n",
              "      <td>1</td>\n",
              "      <td>'Schubert' Chokecherry</td>\n",
              "      <td>1or2</td>\n",
              "      <td>2.500000</td>\n",
              "      <td>2</td>\n",
              "      <td>Manhattan</td>\n",
              "    </tr>\n",
              "    <tr>\n",
              "      <th>1</th>\n",
              "      <td>1</td>\n",
              "      <td>'Schubert' Chokecherry</td>\n",
              "      <td>3or4</td>\n",
              "      <td>2.913043</td>\n",
              "      <td>3</td>\n",
              "      <td>Manhattan</td>\n",
              "    </tr>\n",
              "    <tr>\n",
              "      <th>2</th>\n",
              "      <td>1</td>\n",
              "      <td>'Schubert' Chokecherry</td>\n",
              "      <td>4orMore</td>\n",
              "      <td>3.000000</td>\n",
              "      <td>4</td>\n",
              "      <td>Manhattan</td>\n",
              "    </tr>\n",
              "    <tr>\n",
              "      <th>3</th>\n",
              "      <td>1</td>\n",
              "      <td>'Schubert' Chokecherry</td>\n",
              "      <td>None</td>\n",
              "      <td>2.638298</td>\n",
              "      <td>1</td>\n",
              "      <td>Manhattan</td>\n",
              "    </tr>\n",
              "    <tr>\n",
              "      <th>4</th>\n",
              "      <td>1</td>\n",
              "      <td>American Beech</td>\n",
              "      <td>1or2</td>\n",
              "      <td>2.700000</td>\n",
              "      <td>2</td>\n",
              "      <td>Manhattan</td>\n",
              "    </tr>\n",
              "    <tr>\n",
              "      <th>5</th>\n",
              "      <td>1</td>\n",
              "      <td>American Beech</td>\n",
              "      <td>None</td>\n",
              "      <td>2.416667</td>\n",
              "      <td>1</td>\n",
              "      <td>Manhattan</td>\n",
              "    </tr>\n",
              "    <tr>\n",
              "      <th>6</th>\n",
              "      <td>1</td>\n",
              "      <td>American Elm</td>\n",
              "      <td>1or2</td>\n",
              "      <td>2.707071</td>\n",
              "      <td>2</td>\n",
              "      <td>Manhattan</td>\n",
              "    </tr>\n",
              "    <tr>\n",
              "      <th>7</th>\n",
              "      <td>1</td>\n",
              "      <td>American Elm</td>\n",
              "      <td>3or4</td>\n",
              "      <td>2.686275</td>\n",
              "      <td>3</td>\n",
              "      <td>Manhattan</td>\n",
              "    </tr>\n",
              "    <tr>\n",
              "      <th>8</th>\n",
              "      <td>1</td>\n",
              "      <td>American Elm</td>\n",
              "      <td>4orMore</td>\n",
              "      <td>2.800000</td>\n",
              "      <td>4</td>\n",
              "      <td>Manhattan</td>\n",
              "    </tr>\n",
              "    <tr>\n",
              "      <th>9</th>\n",
              "      <td>1</td>\n",
              "      <td>American Elm</td>\n",
              "      <td>None</td>\n",
              "      <td>2.783610</td>\n",
              "      <td>1</td>\n",
              "      <td>Manhattan</td>\n",
              "    </tr>\n",
              "  </tbody>\n",
              "</table>\n",
              "</div>"
            ],
            "text/plain": [
              "   borocode              spc_common  ... steward_level    borough\n",
              "0         1  'Schubert' Chokecherry  ...             2  Manhattan\n",
              "1         1  'Schubert' Chokecherry  ...             3  Manhattan\n",
              "2         1  'Schubert' Chokecherry  ...             4  Manhattan\n",
              "3         1  'Schubert' Chokecherry  ...             1  Manhattan\n",
              "4         1          American Beech  ...             2  Manhattan\n",
              "5         1          American Beech  ...             1  Manhattan\n",
              "6         1            American Elm  ...             2  Manhattan\n",
              "7         1            American Elm  ...             3  Manhattan\n",
              "8         1            American Elm  ...             4  Manhattan\n",
              "9         1            American Elm  ...             1  Manhattan\n",
              "\n",
              "[10 rows x 6 columns]"
            ]
          },
          "metadata": {
            "tags": []
          },
          "execution_count": 31
        }
      ]
    },
    {
      "cell_type": "code",
      "metadata": {
        "id": "5RlMWOib_1lZ"
      },
      "source": [
        ""
      ],
      "execution_count": null,
      "outputs": []
    }
  ]
}